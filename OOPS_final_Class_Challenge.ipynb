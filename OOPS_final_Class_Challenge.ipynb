{
 "cells": [
  {
   "cell_type": "raw",
   "id": "ef8b7631",
   "metadata": {},
   "source": [
    "class\n",
    "@class Method and @staticmethod\n",
    "object\n",
    "constructor\n",
    "inheritance &  method overrridding \n",
    "abstraction\n",
    "encaptulations\n",
    "polymorpsim\n",
    "package\n",
    "modules\n",
    "\n",
    "\n",
    "For all the concepts that we have discussed in our class point by point you have to write\n",
    "atleast 10 examples\n",
    "\n",
    "you have to make sure that use ineuron studnets , class , class type , number of courses\n",
    ", affiliates , blog, internship , jobs as a reference example\n"
   ]
  },
  {
   "cell_type": "markdown",
   "id": "a320f2fa",
   "metadata": {},
   "source": [
    "# Class "
   ]
  },
  {
   "cell_type": "code",
   "execution_count": 1,
   "id": "6cf17cd5",
   "metadata": {},
   "outputs": [],
   "source": [
    "#This is syntax in which we can define a class\n",
    "class Inueron:\n",
    "    pass"
   ]
  },
  {
   "cell_type": "markdown",
   "id": "12bb532e",
   "metadata": {},
   "source": [
    "# Object and Instance"
   ]
  },
  {
   "cell_type": "markdown",
   "id": "3d63887f",
   "metadata": {},
   "source": [
    "An instance is a specific representation of an object. An object is a generic thing while an instance is a single object that has been created in memory."
   ]
  },
  {
   "cell_type": "code",
   "execution_count": 2,
   "id": "86ae4339",
   "metadata": {},
   "outputs": [],
   "source": [
    "class Ineuron:\n",
    "    pass\n",
    "\n",
    "I=Ineuron()\n",
    "# I= instance\n",
    "# Ineuron()= Object"
   ]
  },
  {
   "cell_type": "markdown",
   "id": "ab39dbfe",
   "metadata": {},
   "source": [
    "# constructor"
   ]
  },
  {
   "cell_type": "markdown",
   "id": "bee56112",
   "metadata": {},
   "source": [
    "In Python, a constructor is a special method that is called when an object is created. The purpose of a python constructor is to assign values to the data members within the class when an object is initialized. The name of the constructor method is always __init__"
   ]
  },
  {
   "cell_type": "code",
   "execution_count": 4,
   "id": "1a846470",
   "metadata": {},
   "outputs": [],
   "source": [
    "#1\n",
    "class Ineuron:\n",
    "    \n",
    "    def __init__(self,course,classtype,student):\n",
    "        self.course=course\n",
    "        self.classtype=classtype\n",
    "        self.student=student\n",
    "        "
   ]
  },
  {
   "cell_type": "code",
   "execution_count": 11,
   "id": "503c25dd",
   "metadata": {},
   "outputs": [],
   "source": [
    "#2\n",
    "class Data_science:\n",
    "    def __init__(self):\n",
    "        self.student=\"Fsds_Student\"\n",
    "        self.institute=\"Ineuron\"\n",
    "        self.no_of_courses=1\n",
    "        \n",
    "    "
   ]
  },
  {
   "cell_type": "code",
   "execution_count": 6,
   "id": "e4db582a",
   "metadata": {},
   "outputs": [],
   "source": [
    "#3\n",
    "class Job:\n",
    "    def __init__(self,internship,fulltime,parttime):\n",
    "        self.internship=internship\n",
    "        self.fulltime=fulltime\n",
    "        self.parttime=parttime\n",
    "    "
   ]
  },
  {
   "cell_type": "code",
   "execution_count": 7,
   "id": "72d5e15a",
   "metadata": {},
   "outputs": [],
   "source": [
    "#4\n",
    "class Affialiate:\n",
    "    def __init__(self,Income,Promation,Reach):\n",
    "        self.Income=Income\n",
    "        self.Promation=Promation\n",
    "        self.Reach=Reach\n",
    "        "
   ]
  },
  {
   "cell_type": "code",
   "execution_count": 8,
   "id": "31f9ecb6",
   "metadata": {},
   "outputs": [],
   "source": [
    "#5\n",
    "class Blog:\n",
    "    def __init__(self,reader,writter,updater):\n",
    "        self.viewer=reader\n",
    "        self.creater=writter\n",
    "        self.changer=updater"
   ]
  },
  {
   "cell_type": "code",
   "execution_count": 9,
   "id": "fc63e651",
   "metadata": {},
   "outputs": [],
   "source": [
    "#6\n",
    "class Internship:\n",
    "    def __init__(self,duration,no_of_projects):\n",
    "        self.duration=duration\n",
    "        self.no_of_projects=no_of_projects\n",
    "        "
   ]
  },
  {
   "cell_type": "code",
   "execution_count": 10,
   "id": "211f3a83",
   "metadata": {},
   "outputs": [],
   "source": [
    "#7\n",
    "class Courses:\n",
    "    def __init__(self,data_science,javascript,web_developements):\n",
    "        self.data_science=data_science\n",
    "        self.javascripts=javascript\n",
    "        self.web_develpments=web_developements"
   ]
  },
  {
   "cell_type": "code",
   "execution_count": 12,
   "id": "28c51707",
   "metadata": {},
   "outputs": [],
   "source": [
    "#8\n",
    "class faculties:\n",
    "    def __init__(self,ds_faculty,java_faculty,web_faculty):\n",
    "        self.ds_faculty=ds_faculty\n",
    "        self.java_faculty=java_faculty\n",
    "        self.web_fuculty=web_faculty\n"
   ]
  },
  {
   "cell_type": "code",
   "execution_count": 13,
   "id": "35f6bfc8",
   "metadata": {},
   "outputs": [],
   "source": [
    "#9\n",
    "class classtype:\n",
    "    def __init__(self,online,offline):\n",
    "        self.online=online\n",
    "        self.offline=offline\n",
    "        "
   ]
  },
  {
   "cell_type": "code",
   "execution_count": 14,
   "id": "313d4770",
   "metadata": {},
   "outputs": [],
   "source": [
    "#10\n",
    "class Ineuron:\n",
    "    def __init__(self,job_gaurantee,job_assitance):\n",
    "        self.job_gaurantee=job_assitance\n",
    "        self.job_assitance=job_assitance"
   ]
  },
  {
   "cell_type": "markdown",
   "id": "915de7be",
   "metadata": {},
   "source": [
    "# @class Method and @staticmethod"
   ]
  },
  {
   "cell_type": "markdown",
   "id": "623ac5f3",
   "metadata": {},
   "source": [
    "`classmethod()` methods are bound to a class rather than an object. Class methods can be called by both class and object. These methods can be called with a class or with an object."
   ]
  },
  {
   "cell_type": "markdown",
   "id": "feac7aab",
   "metadata": {},
   "source": [
    "`Staticmethods()` in Python are extremely similar to python class level methods, the difference being that a static method is bound to a class rather than the objects for that class. This means that a static method can be called without an object for that class. This also means that static methods cannot modify the state of an object as they are not bound to it"
   ]
  },
  {
   "cell_type": "code",
   "execution_count": 29,
   "id": "3e3246f3",
   "metadata": {},
   "outputs": [
    {
     "name": "stdout",
     "output_type": "stream",
     "text": [
      "50\n",
      "50\n",
      "60\n",
      "80\n",
      "The no of assingments is {80}\n"
     ]
    }
   ],
   "source": [
    "#1\n",
    "# @classmethod\n",
    "\n",
    "class Ineuron:\n",
    "    No_of_assingments=50\n",
    "    def __init__(self,course,duration):\n",
    "        self.course=course\n",
    "        self.duration=duration\n",
    "\n",
    "    def data_science(self):\n",
    "        print(\"The no of assingments is {}\".format({self.No_of_assingments}))\n",
    "\n",
    "    @classmethod     \n",
    "    def job_gaurantee(cls,extra_assigments):\n",
    "        cls.No_of_assingments=cls.No_of_assingments+extra_assigments\n",
    "\n",
    "i=Ineuron(\"Data_science\",\"1 year\")\n",
    "print(i.No_of_assingments)\n",
    "\n",
    "#we can acess class variable by instance or directly by class Name\n",
    "print(Ineuron.No_of_assingments)\n",
    "\n",
    "#we needed to update the value of the assingments due extra assigments given in the class\n",
    "Ineuron.job_gaurantee(10)\n",
    "print(Ineuron.No_of_assingments)\n",
    "i2=Ineuron(\"Data_science\",\"1 year\")\n",
    "i2.job_gaurantee(20)\n",
    "print(i2.No_of_assingments)\n",
    "i2.data_science()\n",
    "\n",
    "#the good practice in by is when we call classmethod with the name of the class not with the instance\n",
    "    "
   ]
  },
  {
   "cell_type": "code",
   "execution_count": 35,
   "id": "d8c1d185",
   "metadata": {
    "code_folding": []
   },
   "outputs": [
    {
     "name": "stdout",
     "output_type": "stream",
     "text": [
      "12\n",
      "20\n"
     ]
    }
   ],
   "source": [
    "#2\n",
    "class job:\n",
    "    no_of_company_apply=12\n",
    "    def __init__(self,Name,sallary_exp,role):\n",
    "        self.Name=Name\n",
    "        self.sallary_exp=sallary_exp\n",
    "        self.role=role\n",
    "\n",
    "    def show_company_appied(self):\n",
    "        print(\"The student apply for {} no. for company\".format({self.no_of_company_apply}))\n",
    "\n",
    "    @classmethod     \n",
    "    def job_gaurantee(cls,new_applied):\n",
    "        cls.no_of_company_apply=new_applied\n",
    "j=job(\"Mritunjay\",600000,\"Data_scientist\")\n",
    "\n",
    "print(j.no_of_company_apply)\n",
    "job.job_gaurantee(20)\n",
    "print(job.no_of_company_apply)"
   ]
  },
  {
   "cell_type": "code",
   "execution_count": 39,
   "id": "46fceb6a",
   "metadata": {},
   "outputs": [
    {
     "name": "stdout",
     "output_type": "stream",
     "text": [
      "30\n",
      "30\n",
      "50\n",
      "The total post is {50}\n"
     ]
    }
   ],
   "source": [
    "#3\n",
    "class Affialiate:\n",
    "    total_post=30\n",
    "    def __init__(self,Income,Promation,Reach):\n",
    "        self.Income=Income\n",
    "        self.Promation=Promation\n",
    "        self.Reach=Reach\n",
    "\n",
    "    def showtotal_post(self):\n",
    "        print(\"The total post is {}\".format({self.total_post}))\n",
    "    @classmethod\n",
    "    def up_total_post(cls,new_post):\n",
    "        cls.total_post=cls.total_post+new_post\n",
    "\n",
    "A=Affialiate(1000,\"Yes\",1600)\n",
    "\n",
    "print(A.total_post)\n",
    "print(Affialiate.total_post)\n",
    "Affialiate.up_total_post(20)\n",
    "print(Affialiate.total_post)\n",
    "A.showtotal_post()"
   ]
  },
  {
   "cell_type": "code",
   "execution_count": 41,
   "id": "9c5ff93e",
   "metadata": {},
   "outputs": [
    {
     "name": "stdout",
     "output_type": "stream",
     "text": [
      "5\n",
      "26\n",
      "this is total blog {26}\n"
     ]
    }
   ],
   "source": [
    "#4\n",
    "class Blog:\n",
    "    blog=5\n",
    "    def __init__(self,reader,writter,updater):\n",
    "        self.viewer=reader\n",
    "        self.creater=writter\n",
    "        self.changer=updater\n",
    "\n",
    "    def show_blog(self):\n",
    "        print(\"this is total blog {}\".format({self.blog}))\n",
    "\n",
    "    @classmethod\n",
    "    def up_blog(cls,new_blog):\n",
    "        cls.blog=cls.blog+new_blog\n",
    "\n",
    "b=Blog(100,5,2)\n",
    "\n",
    "print(Blog.blog)\n",
    "Blog.up_blog(21)\n",
    "print(Blog.blog)\n",
    "b.show_blog()\n"
   ]
  },
  {
   "cell_type": "code",
   "execution_count": 53,
   "id": "160690bb",
   "metadata": {},
   "outputs": [
    {
     "name": "stdout",
     "output_type": "stream",
     "text": [
      "15\n",
      "11\n"
     ]
    }
   ],
   "source": [
    "#5\n",
    "class job:\n",
    "    no_of_company_apply=12\n",
    "    no_of_company_reject=5\n",
    "    def __init__(self,Name,sallary_exp,role):\n",
    "        self.Name=Name\n",
    "        self.sallary_exp=sallary_exp\n",
    "        self.role=role\n",
    "\n",
    "    def show_company_appied(self):\n",
    "        print(\"The student apply for {} no. for company\".format({self.no_of_company_apply}))\n",
    "\n",
    "    @classmethod     \n",
    "    def job_gaurantee(cls,new_applied,new_no_of_company_reject):\n",
    "        cls.no_of_company_apply=new_applied\n",
    "        cls.no_of_company_reject=new_no_of_company_reject\n",
    "        \n",
    "j=job(\"Mritunjay\",600000,\"Data_scientist\")\n",
    "\n",
    "job.no_of_company_apply=15\n",
    "job.no_of_company_reject=11\n",
    "print(job.no_of_company_apply)\n",
    "print(job.no_of_company_reject)\n",
    "\n",
    "\n"
   ]
  },
  {
   "cell_type": "markdown",
   "id": "1d37b298",
   "metadata": {},
   "source": [
    "## StaticMethod"
   ]
  },
  {
   "cell_type": "code",
   "execution_count": 55,
   "id": "670931c4",
   "metadata": {},
   "outputs": [
    {
     "name": "stdout",
     "output_type": "stream",
     "text": [
      "Enter the no. of assigments done: 12\n",
      "Not eligible for job gaurnatee\n"
     ]
    }
   ],
   "source": [
    "#6\n",
    "class Ineuron:\n",
    "    assigments_done=int(input(\"Enter the no. of assigments done: \"))\n",
    "    def fsds(self,Name,batch,time):\n",
    "        self.Name=Name\n",
    "        self.batch=batch\n",
    "        self.time=time\n",
    "\n",
    "    @classmethod\n",
    "    def change_assignments(cls,assingment_new):\n",
    "        cls.assgiments_done=assingment_new\n",
    "\n",
    "    @staticmethod\n",
    "    def check_eligible():\n",
    "        if Ineuron.assigments_done>50:\n",
    "            return \"Eligible for job gairantee\"\n",
    "        else:\n",
    "            return \"Not eligible for job gaurnatee\"\n",
    "\n",
    "i=Ineuron()\n",
    "\n",
    "print(Ineuron.check_eligible())\n"
   ]
  },
  {
   "cell_type": "code",
   "execution_count": 56,
   "id": "7547bd37",
   "metadata": {},
   "outputs": [
    {
     "name": "stdout",
     "output_type": "stream",
     "text": [
      "Enter the no. of assigments done: 59\n",
      "Eligible for job gairantee\n"
     ]
    }
   ],
   "source": [
    "#7\n",
    "class Ineuron:\n",
    "    assigments_done=int(input(\"Enter the no. of assigments done: \"))\n",
    "    def fsds(self,Name,batch,time):\n",
    "        self.Name=Name\n",
    "        self.batch=batch\n",
    "        self.time=time\n",
    "\n",
    "    @classmethod\n",
    "    def change_assignments(cls,assingment_new):\n",
    "        cls.assgiments_done=assingment_new\n",
    "\n",
    "    @staticmethod\n",
    "    def check_eligible():\n",
    "        if Ineuron.assigments_done>50:\n",
    "            return \"Eligible for job gairantee\"\n",
    "        else:\n",
    "            return \"Not eligible for job gaurnatee\"\n",
    "\n",
    "i=Ineuron()\n",
    "\n",
    "print(Ineuron.check_eligible())"
   ]
  },
  {
   "cell_type": "code",
   "execution_count": 57,
   "id": "9b342bc3",
   "metadata": {},
   "outputs": [
    {
     "name": "stdout",
     "output_type": "stream",
     "text": [
      "0 for false 1 for True:: 0\n",
      "Sorry for inconvienience, we will deliever it fast\n"
     ]
    }
   ],
   "source": [
    "#8\n",
    "class fsds:\n",
    "    try:\n",
    "        course_material_provided=int(input(\"0 for false 1 for True:: \"))\n",
    "    except Exception as e:\n",
    "        print(\"Please Provide boolean Value\")\n",
    "\n",
    "    def __init__(self,doubt_support,hours_of_classes,institute):\n",
    "        self.doubt_support=doubt_support\n",
    "        self.hours_of_clasees=hours_of_classes\n",
    "        self.institute=institute\n",
    "\n",
    "    def student(self):\n",
    "        return \"The students belong to {}\".format(self.institute)\n",
    "\n",
    "    @staticmethod\n",
    "    def material_checker():\n",
    "        if fsds.course_material_provided==1:\n",
    "            return \"The study matrials have been provided to the institute\"\n",
    "        else:\n",
    "            return \"Sorry for inconvienience, we will deliever it fast\"\n",
    "\n",
    "print(fsds.material_checker())"
   ]
  },
  {
   "cell_type": "code",
   "execution_count": 58,
   "id": "6c2301b8",
   "metadata": {},
   "outputs": [
    {
     "name": "stdout",
     "output_type": "stream",
     "text": [
      "Looks like you made it\n"
     ]
    }
   ],
   "source": [
    "#9\n",
    "class job:\n",
    "    def __init__(self,Name,Education,Experiance):\n",
    "        self.Name=Name\n",
    "        self.Education=Education\n",
    "        self.Experiance=Experiance\n",
    "\n",
    "    @staticmethod\n",
    "    def printgood():\n",
    "        return \"Looks like you made it\"\n",
    "\n",
    "print(job.printgood())"
   ]
  },
  {
   "cell_type": "code",
   "execution_count": 59,
   "id": "9bd93425",
   "metadata": {},
   "outputs": [
    {
     "name": "stdout",
     "output_type": "stream",
     "text": [
      "Put the months you work in ineuron:: 6\n",
      "Hurray you did a great work here\n"
     ]
    }
   ],
   "source": [
    "#10\n",
    "class Internship:\n",
    "    no_of_month=int(input(\"Put the months you work in ineuron:: \"))\n",
    "\n",
    "\n",
    "    def student(self,Name,Batch,project):\n",
    "        self.Name=Name\n",
    "        self.Batch=Batch\n",
    "        self.project=project\n",
    "\n",
    "\n",
    "    @staticmethod\n",
    "    def Portal_intern():\n",
    "        if Internship.no_of_month>=3:\n",
    "            return \"Hurray you did a great work here\"\n",
    "        else:\n",
    "            return \"try to work for more months to get experience\"\n",
    "\n",
    "\n",
    "print(Internship.Portal_intern())"
   ]
  },
  {
   "cell_type": "markdown",
   "id": "c7b9c8d9",
   "metadata": {},
   "source": [
    "# Inheritance and Method_overriding"
   ]
  },
  {
   "cell_type": "markdown",
   "id": "0f370500",
   "metadata": {},
   "source": [
    "***Inheritance*** allows us to define a class that inherits all the methods and properties from another class. Parent class is the class being inherited from, also called base class. Child class is the class that inherits from another class, also called derived class.\n",
    "\n",
    "\n",
    "***Method overriding*** is an ability of any object-oriented programming language that allows a subclass or child class to provide a specific implementation of a method that is already provided by one of its super-classes or parent classes. When a method in a subclass has the same name, same parameters or signature and same return type(or sub-type) as a method in its super-class, then the method in the subclass is said to override the method in the super-class."
   ]
  },
  {
   "cell_type": "code",
   "execution_count": 61,
   "id": "c8ee1bbf",
   "metadata": {},
   "outputs": [],
   "source": [
    "#simple inheritance\n",
    "#1\n",
    "class Ineuron:\n",
    "    pass\n",
    "\n",
    "class fsds(Inueron):\n",
    "    pass"
   ]
  },
  {
   "cell_type": "code",
   "execution_count": 65,
   "id": "0357708f",
   "metadata": {},
   "outputs": [
    {
     "name": "stdout",
     "output_type": "stream",
     "text": [
      "This course method is from Ineuron class------ we offer datascience,web development,digital markeing etc courses\n",
      "\n",
      "This course method is from Fsds class--------- In fsds batch we provide full stack data science job gaurantee programs\n"
     ]
    }
   ],
   "source": [
    "#2 \n",
    "#simple inheritance with method over riding\n",
    "class Ineuron:\n",
    "    def course(self):\n",
    "        return \"we offer datascience,web development,digital markeing etc courses\"\n",
    "\n",
    "class Fsds(Ineuron):\n",
    "    def course(self):\n",
    "        return \"In fsds batch we provide full stack data science job gaurantee programs\"\n",
    "\n",
    "\n",
    "i=Ineuron()\n",
    "f=Fsds()\n",
    "print(\"This course method is from Ineuron class------\",i.course())\n",
    "print()\n",
    "print(\"This course method is from Fsds class---------\",f.course())\n"
   ]
  },
  {
   "cell_type": "code",
   "execution_count": 68,
   "id": "7de69a17",
   "metadata": {},
   "outputs": [
    {
     "name": "stdout",
     "output_type": "stream",
     "text": [
      "we offer datascience,web development,digital markeing etc courzzz\n",
      "None\n",
      "we offer datascience,web development,digital markeing etc courzzz\n",
      "In fsds batch we provide full stack data science job gaurantee programs\n"
     ]
    }
   ],
   "source": [
    "#3\n",
    "#simple inheritancw with method overriding but i also want to use parent class function also\n",
    "class Ineuron:\n",
    "    def course(self):\n",
    "        print(\"we offer datascience,web development,digital markeing etc courzzz\")\n",
    "\n",
    "class Fsds(Ineuron):\n",
    "    def course(self):\n",
    "        super().course()\n",
    "        return \"In fsds batch we provide full stack data science job gaurantee programs\"\n",
    "\n",
    "\n",
    "i=Ineuron()\n",
    "f=Fsds()\n",
    "print(i.course())\n",
    "print(f.course())"
   ]
  },
  {
   "cell_type": "markdown",
   "id": "3e12930a",
   "metadata": {},
   "source": [
    "***Multiple inheritance***\n",
    "\n",
    "`Multiple inheritance` is a feature of some object-oriented computer programming languages in which an object or class can inherit features from more than one parent object or parent class. It is distinct from single inheritance, where an object or class may only inherit from one particular object or class"
   ]
  },
  {
   "cell_type": "code",
   "execution_count": 69,
   "id": "5da2e807",
   "metadata": {},
   "outputs": [
    {
     "name": "stdout",
     "output_type": "stream",
     "text": [
      "This is Multiple Inheritance\n"
     ]
    }
   ],
   "source": [
    "#4\n",
    "class Ineuron:\n",
    "    def course(self):\n",
    "        return \"we offer datascience,web development,digital markeing etc courses\"\n",
    "\n",
    "class Fsds():\n",
    "    def course(self):\n",
    "        super().course()\n",
    "        return \"In fsds batch we provide full stack data science job gaurantee programs\"\n",
    "\n",
    "\n",
    "class Data_Sc(Ineuron,Fsds):\n",
    "    def __init__(self):\n",
    "        print(\"This is Multiple Inheritance\")\n",
    "        \n",
    "d=Data_Sc()\n",
    "\n"
   ]
  },
  {
   "cell_type": "code",
   "execution_count": 74,
   "id": "99458901",
   "metadata": {},
   "outputs": [
    {
     "name": "stdout",
     "output_type": "stream",
     "text": [
      "this ineuron class\n",
      "This is Multiple Inheritance\n",
      "This from FSDS class\n"
     ]
    }
   ],
   "source": [
    "#5\n",
    "class Ineuron:\n",
    "    def course(self):\n",
    "        print(\"this ineuron class\")\n",
    "\n",
    "class Fsds():\n",
    "    def course(self):\n",
    "        print(\"This from FSDS class\")\n",
    "\n",
    "\n",
    "\n",
    "\n",
    "class Data_Sc(Ineuron,Fsds):\n",
    "    def __init__(self):\n",
    "        super().course()\n",
    "        print(\"This is Multiple Inheritance\")\n",
    "        Fsds.course(self)\n",
    "\n",
    "\n",
    "d=Data_Sc()\n",
    "\n",
    "\n"
   ]
  },
  {
   "cell_type": "code",
   "execution_count": 76,
   "id": "6f026708",
   "metadata": {},
   "outputs": [
    {
     "name": "stdout",
     "output_type": "stream",
     "text": [
      "This function belongs to Job class\n",
      "This function belong to data science operations\n",
      "None\n"
     ]
    }
   ],
   "source": [
    "#Method Overiding with Multiple inheritance\n",
    "#6\n",
    "class Ineuron:\n",
    "    def datascience(self):\n",
    "        print(\"This function belong to data science operations\")\n",
    "\n",
    "class Fsds:\n",
    "    def datascience(self):\n",
    "        print(\"This function belongs to fsds\")\n",
    "\n",
    "class Job(Ineuron,Fsds):\n",
    "    def datascience(self):\n",
    "        print(\"This function belongs to Job class\")\n",
    "        super().datascience()\n",
    "\n",
    "j=Job()\n",
    "print(j.datascience())"
   ]
  },
  {
   "cell_type": "markdown",
   "id": "ba54ec0a",
   "metadata": {},
   "source": [
    "***Multi-Level Inheritance***\n",
    "\n",
    "\n",
    "`Multilevel Inheritance` in Python is a type of Inheritance that involves inheriting a class that has already inherited some other class. That means the derived/subclass class inherits the features of the base class/parent class, and the new derived class inherits the features of the derived class"
   ]
  },
  {
   "cell_type": "code",
   "execution_count": 83,
   "id": "15dfad72",
   "metadata": {},
   "outputs": [
    {
     "name": "stdout",
     "output_type": "stream",
     "text": [
      "5 star\n",
      "Internship is my experiance\n",
      "Student belongs to data batch\n"
     ]
    }
   ],
   "source": [
    "#7\n",
    "class Ineuron:\n",
    "    python=\"5 star\"\n",
    "    def __init__(self,Name,salary,role):\n",
    "        self.Name=Name\n",
    "        self.salary=salary\n",
    "        self.role=role\n",
    "        \n",
    "    def job(self):\n",
    "        print(\"I work in Ineuron as Interns\")\n",
    "        \n",
    "class Fsds(Ineuron):\n",
    "    def data_batch(self):\n",
    "        print(\"Student belongs to data batch\")\n",
    "        \n",
    "class Internship(Fsds):\n",
    "    def experience(self):\n",
    "        print(\"Internship is my experiance\")\n",
    "        \n",
    "        \n",
    "intern=Internship(\"Mritunjay\",500,\"data_intern\") # we are intializing the Ineuron class with the help og internship instance\n",
    "print(intern.python) #we are acessing class ineuron variable with the help of Internship instance\n",
    "\n",
    "intern.experience()\n",
    "intern.data_batch()\n",
    "\n",
    "#we can acess all the "
   ]
  },
  {
   "cell_type": "markdown",
   "id": "215a43bd",
   "metadata": {},
   "source": [
    "***Method-Overriding in Multilevel***"
   ]
  },
  {
   "cell_type": "code",
   "execution_count": 84,
   "id": "ebdddfeb",
   "metadata": {},
   "outputs": [
    {
     "name": "stdout",
     "output_type": "stream",
     "text": [
      "5 star\n",
      "Internship is my experiance\n",
      "This is Overrided method in final child class\n"
     ]
    }
   ],
   "source": [
    "#7\n",
    "class Ineuron:\n",
    "    python=\"5 star\"\n",
    "    def __init__(self,Name,salary,role):\n",
    "        self.Name=Name\n",
    "        self.salary=salary\n",
    "        self.role=role\n",
    "        \n",
    "    def job(self):\n",
    "        print(\"I work in Ineuron as Interns\")\n",
    "        \n",
    "class Fsds(Ineuron):\n",
    "    def data_batch(self):\n",
    "        print(\"Student belongs to data batch\")\n",
    "        \n",
    "class Internship(Fsds):\n",
    "    def experience(self):\n",
    "        print(\"Internship is my experiance\")\n",
    "    def data_batch(self):\n",
    "        print(\"This is Overrided method in final child class\")\n",
    "intern=Internship(\"Mritunjay\",500,\"data_intern\") # we are intializing the Ineuron class with the help og internship instance\n",
    "print(intern.python) #we are acessing class ineuron variable with the help of Internship instance\n",
    "\n",
    "intern.experience()\n",
    "intern.data_batch()\n",
    "\n",
    "#we can acess all the "
   ]
  },
  {
   "cell_type": "markdown",
   "id": "595f8a8e",
   "metadata": {},
   "source": [
    "# Abstraction\n",
    "***Abstraction*** is used to hide the internal functionality of the function from the users. The users only interact with the basic implementation of the function, but inner working is hidden. User is familiar with that \"what function does\" but they don't know \"how it does.\""
   ]
  },
  {
   "cell_type": "code",
   "execution_count": 85,
   "id": "adbee21d",
   "metadata": {},
   "outputs": [],
   "source": [
    "from abc import ABC,abstractmethod"
   ]
  },
  {
   "cell_type": "code",
   "execution_count": 87,
   "id": "bd70cfd2",
   "metadata": {},
   "outputs": [
    {
     "name": "stdout",
     "output_type": "stream",
     "text": [
      "This is Data science course\n",
      "None\n"
     ]
    }
   ],
   "source": [
    "from abc import ABC,abstractmethod\n",
    "\n",
    "class Ineuron(ABC):\n",
    "    @abstractmethod\n",
    "    def batch(self):\n",
    "        pass\n",
    "    @abstractmethod\n",
    "    def course(self):\n",
    "        pass\n",
    "\n",
    "class Fsds(Ineuron):\n",
    "    def __init__(self,price,support_time,course_duration):\n",
    "        self.price=price\n",
    "        self.support_time=support_time\n",
    "        self.course_duration=course_duration\n",
    "    #TypeError: Can't instantiate abstract class Fsds with abstract methods batch, course\n",
    "    #we will get this error if we don't write or over ride the bastract method\n",
    "\n",
    "    def batch(self):\n",
    "        print(\"This is for 7 may 2022 Batch\")\n",
    "\n",
    "    def course(self):\n",
    "        print(\"This is Data science course\")\n",
    "\n",
    "f=Fsds(15000,\"7 hours\",12)\n",
    "\n",
    "print(f.course())\n",
    "\n",
    "#the main motive of the abstract class is to restrict the creation of the object of parent class\n"
   ]
  },
  {
   "cell_type": "code",
   "execution_count": 88,
   "id": "593229cd",
   "metadata": {},
   "outputs": [
    {
     "name": "stdout",
     "output_type": "stream",
     "text": [
      "EDA\n",
      "None\n"
     ]
    }
   ],
   "source": [
    "from abc import ABC,abstractmethod\n",
    "\n",
    "class Job(ABC):\n",
    "    @abstractmethod\n",
    "    def Position(self):\n",
    "        pass\n",
    "    @abstractmethod\n",
    "    def Role(self):\n",
    "        pass\n",
    "\n",
    "class Fsds(Job):\n",
    "    def __init__(self,price,support_time,course_duration):\n",
    "        self.price=price\n",
    "        self.support_time=support_time\n",
    "        self.course_duration=course_duration\n",
    "    #TypeError: Can't instantiate abstract class Fsds with abstract methods batch, course\n",
    "    #we will get this error if we don't write or over ride the bastract method\n",
    "\n",
    "    def Position(self):\n",
    "        print(\"Data sceintist\")\n",
    "\n",
    "    def Role(self):\n",
    "        print(\"EDA\")\n",
    "\n",
    "f=Fsds(15000,\"7 hours\",12)\n",
    "\n",
    "print(f.Role())\n",
    "\n",
    "#the main motive of the abstract class is to restrict the creation of the object of parent class\n"
   ]
  },
  {
   "cell_type": "code",
   "execution_count": 92,
   "id": "89788cb8",
   "metadata": {},
   "outputs": [
    {
     "name": "stdout",
     "output_type": "stream",
     "text": [
      "Postion is ceo\n",
      "None\n",
      "EDA\n",
      "Role is roll\n",
      "None\n"
     ]
    }
   ],
   "source": [
    "#\n",
    "from abc import ABC,abstractmethod\n",
    "\n",
    "class Job(ABC):\n",
    "    @abstractmethod\n",
    "    def Position(self):\n",
    "        print(\"Postion is ceo\")\n",
    "    @abstractmethod\n",
    "    def Role(self):\n",
    "        print(\"Role is roll\")\n",
    "\n",
    "class Fsds(Job):\n",
    "    def __init__(self,price,support_time,course_duration):\n",
    "        self.price=price\n",
    "        self.support_time=support_time\n",
    "        self.course_duration=course_duration\n",
    "    #TypeError: Can't instantiate abstract class Fsds with abstract methods batch, course\n",
    "    #we will get this error if we don't write or over ride the bastract method\n",
    "\n",
    "    def Position(self):\n",
    "        super().Position()\n",
    "\n",
    "    def Role(self):\n",
    "        print(\"EDA\")\n",
    "        super().Role()\n",
    "\n",
    "f=Fsds(15000,\"7 hours\",12)\n",
    "print(f.Position())# we can acess the parent class function also by super keyword\n",
    "print(f.Role())\n",
    "\n",
    "#the main motive of the abstract class is to restrict the creation of the object of parent class\n"
   ]
  },
  {
   "cell_type": "markdown",
   "id": "ea61a1b3",
   "metadata": {},
   "source": [
    "# Encapulation \n",
    "***PUBLIC*** `def public(self):`\n",
    "\n",
    "\n",
    "***PROTECTED*** `def _Protected(self):`\n",
    "\n",
    "\n",
    "***PRIVATE***  `def __Private(self):`"
   ]
  },
  {
   "cell_type": "markdown",
   "id": "b9b6e9b9",
   "metadata": {},
   "source": [
    "`Encapsulation` is one of the fundamental concepts in object-oriented programming (OOP). It describes the idea of wrapping data and the methods that work on data within one unit. This puts restrictions on accessing variables and methods directly and can prevent the accidental modification of data. To prevent accidental change, an object’s variable can only be changed by an object’s method. Those types of variables are known as private variables."
   ]
  },
  {
   "cell_type": "code",
   "execution_count": 18,
   "id": "2c9f9005",
   "metadata": {},
   "outputs": [
    {
     "name": "stdout",
     "output_type": "stream",
     "text": [
      "True\n",
      "We Provide best datascience course\n",
      "None\n",
      "we have affiliate Promotion Program\n",
      "None\n"
     ]
    }
   ],
   "source": [
    "#1\n",
    "class Ineuron:\n",
    "    def __init__(self,Name,Course,Internship):\n",
    "        self.Name=Name\n",
    "        self._Course=Course\n",
    "        self.__Internship=Internship\n",
    "\n",
    "    def __number_of_course(self):\n",
    "        print(\"We Provide best datascience course\")\n",
    "\n",
    "    def get_name(self):\n",
    "        return self.__Name\n",
    "\n",
    "    def __affiliates(self):\n",
    "        print(\"we have affiliate Promotion Program\")\n",
    "\n",
    "    def show_num_of_course(self):\n",
    "        self.__number_of_course()\n",
    "\n",
    "    def show_affliates(self):\n",
    "        self.__affiliates()\n",
    "\n",
    "\n",
    "i=Ineuron(\"Mritunjay\",\"DataScience\",True)\n",
    "\n",
    "# print(i.Internship) ----->'Ineuron' object has no attribute 'Internship'(AttributeError )\n",
    "#way to call Private class Variable\n",
    "print(i._Ineuron__Internship)\n",
    "#-----------------------------------------------------------------------------------------------------------------#\n",
    "#(i.__number_of_course) #this way to call the private method will give you error\n",
    "\n",
    "print(i.show_num_of_course())\n",
    "print(i.show_affliates())\n",
    "\n",
    "    "
   ]
  },
  {
   "cell_type": "code",
   "execution_count": 19,
   "id": "23280043",
   "metadata": {},
   "outputs": [
    {
     "name": "stdout",
     "output_type": "stream",
     "text": [
      "Completed the Internship\n"
     ]
    }
   ],
   "source": [
    "#2\n",
    "class Internship:\n",
    "\n",
    "    def __init__(self,Name,course,No_of_Assingments):\n",
    "        self.Name=Name\n",
    "        self.course=course\n",
    "        self.No_of_Assingment=No_of_Assingments\n",
    "\n",
    "    def __completed_internship(self):\n",
    "        if self.No_of_Assingment>50:\n",
    "            return \"Completed the Internship\"\n",
    "        else:\n",
    "            return \"Not Completed the Internship\"\n",
    "    def show_complete_internship(self):\n",
    "        return self.__completed_internship()\n",
    "\n",
    "I=Internship(\"Rahul\",\"Data_Science\",53)\n",
    "\n",
    "print(I.show_complete_internship())"
   ]
  },
  {
   "cell_type": "markdown",
   "id": "cbd45b0b",
   "metadata": {},
   "source": [
    "# Polymorphism\n",
    "The word `polymorphism` means having many forms. In programming, `polymorphism` means the same function name (but different signatures) being used for different types. The key difference is the data types and number of arguments used in function."
   ]
  },
  {
   "cell_type": "code",
   "execution_count": 23,
   "id": "cbd851be",
   "metadata": {},
   "outputs": [
    {
     "name": "stdout",
     "output_type": "stream",
     "text": [
      "Welocme to Ineuron \n",
      "None\n"
     ]
    }
   ],
   "source": [
    "#1\n",
    "class Ineuron:\n",
    "    def display_info(self,name=\" \"):\n",
    "        print(\"Welocme to Ineuron\"+name)\n",
    "\n",
    "i=Ineuron()\n",
    "print(i.display_info())\n",
    "# 1 and 2 program is signle ploymorphism"
   ]
  },
  {
   "cell_type": "code",
   "execution_count": 24,
   "id": "370934d4",
   "metadata": {},
   "outputs": [
    {
     "name": "stdout",
     "output_type": "stream",
     "text": [
      "Welocme to Ineuron Data Science\n",
      "None\n"
     ]
    }
   ],
   "source": [
    "class Ineuron:\n",
    "#overloading in polymorphism\n",
    "    def display_info(self,name=\" \"):\n",
    "        print(\"Welocme to Ineuron\"+name)\n",
    "\n",
    "i=Ineuron()\n",
    "print(i.display_info(\" Data Science\"))\n",
    "\n",
    "\n"
   ]
  },
  {
   "cell_type": "code",
   "execution_count": 26,
   "id": "99a0e0d6",
   "metadata": {},
   "outputs": [
    {
     "name": "stdout",
     "output_type": "stream",
     "text": [
      "Welcome to Intersnhip\n",
      "Welocme to Ineuron \n"
     ]
    }
   ],
   "source": [
    "#2 \n",
    "#overriding in polymorphism\n",
    "class Ineuron:\n",
    "    def display_info(self,name=\" \"):\n",
    "        print(\"Welocme to Ineuron\"+name)\n",
    "        \n",
    "class Internship(Ineuron):\n",
    "    def display_info(self):\n",
    "        print(\"Welcome to Intersnhip\")\n",
    "        super().display_info()\n",
    "        \n",
    "ints=Internship()\n",
    "ints.display_info()\n",
    "\n"
   ]
  },
  {
   "cell_type": "code",
   "execution_count": 28,
   "id": "6994ab9e",
   "metadata": {},
   "outputs": [
    {
     "name": "stdout",
     "output_type": "stream",
     "text": [
      "fee is  17700\n",
      "Data Science course fee is 20000\n"
     ]
    }
   ],
   "source": [
    "#3\n",
    "class Ineuron:\n",
    "    course_price=17700\n",
    "    def fee(self):\n",
    "        print(\"fee is \",self.course_price)\n",
    "\n",
    "class Course:\n",
    "    data_science_price=20000\n",
    "    def fee(self):\n",
    "        print(\"Data Science course fee is\",self.data_science_price)\n",
    "\n",
    "i=Ineuron()\n",
    "c=Course()\n",
    "\n",
    "def institute_price(industy_fee):\n",
    "    industy_fee.fee()\n",
    "\n",
    "institute_price(i)\n",
    "institute_price(c)\n"
   ]
  },
  {
   "cell_type": "code",
   "execution_count": null,
   "id": "74ffa73f",
   "metadata": {},
   "outputs": [],
   "source": []
  }
 ],
 "metadata": {
  "kernelspec": {
   "display_name": "Python 3 (ipykernel)",
   "language": "python",
   "name": "python3"
  },
  "language_info": {
   "codemirror_mode": {
    "name": "ipython",
    "version": 3
   },
   "file_extension": ".py",
   "mimetype": "text/x-python",
   "name": "python",
   "nbconvert_exporter": "python",
   "pygments_lexer": "ipython3",
   "version": "3.9.13"
  },
  "toc": {
   "base_numbering": 1,
   "nav_menu": {},
   "number_sections": true,
   "sideBar": true,
   "skip_h1_title": false,
   "title_cell": "Table of Contents",
   "title_sidebar": "Contents",
   "toc_cell": false,
   "toc_position": {},
   "toc_section_display": true,
   "toc_window_display": false
  },
  "varInspector": {
   "cols": {
    "lenName": 16,
    "lenType": 16,
    "lenVar": 40
   },
   "kernels_config": {
    "python": {
     "delete_cmd_postfix": "",
     "delete_cmd_prefix": "del ",
     "library": "var_list.py",
     "varRefreshCmd": "print(var_dic_list())"
    },
    "r": {
     "delete_cmd_postfix": ") ",
     "delete_cmd_prefix": "rm(",
     "library": "var_list.r",
     "varRefreshCmd": "cat(var_dic_list()) "
    }
   },
   "types_to_exclude": [
    "module",
    "function",
    "builtin_function_or_method",
    "instance",
    "_Feature"
   ],
   "window_display": false
  }
 },
 "nbformat": 4,
 "nbformat_minor": 5
}
