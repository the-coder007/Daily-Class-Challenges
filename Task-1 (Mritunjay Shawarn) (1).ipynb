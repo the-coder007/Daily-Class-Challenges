{
 "cells": [
  {
   "cell_type": "markdown",
   "id": "1f43c04e",
   "metadata": {},
   "source": [
    "# Question"
   ]
  },
  {
   "cell_type": "markdown",
   "id": "92f6d6c6",
   "metadata": {},
   "source": [
    "\n",
    "s = \"this is My First Python programming class and i am learNING python string and its function\"\n",
    " 1. Try to extract data from index one to index 300 with a jump of 3 \n",
    " 2. Try to reverse a string without using reverse function \n",
    " 3. Try to split a string after conversion of entire string in uppercase \n",
    " 4. try to convert the whole string into lower case \n",
    " 5. Try to capitalize the whole string \n",
    " 6. Write a diference between isalnum() and isalpha()\n",
    " 7. Try to give an example of expand tab\n",
    " 8. Give an example of strip , lstrip and rstrip \n",
    " 9. Replace a string charecter by another charector by taking your own example \"sudhanshu\"\n",
    " 10. Try  to give a defination of string center function with and exmple \n",
    " 11. Write your own definition of compiler and interpretor without copy paste form internet in your own language\n",
    " 12. Python is a interpreted of compiled language give a clear ans with your understanding \n",
    " 13. Try to write a usecase of python with your understanding "
   ]
  },
  {
   "cell_type": "markdown",
   "id": "83650cc7",
   "metadata": {},
   "source": [
    "# Answers "
   ]
  },
  {
   "cell_type": "code",
   "execution_count": 1,
   "id": "f9e142b2",
   "metadata": {},
   "outputs": [],
   "source": [
    "s = \"this is My First Python programming class and i am learNING python string and its function\""
   ]
  },
  {
   "cell_type": "markdown",
   "id": "4d4bf154",
   "metadata": {},
   "source": [
    "## Try to extract data from index one to index 300 with a jump of 3 "
   ]
  },
  {
   "cell_type": "code",
   "execution_count": 2,
   "id": "e0b6d575",
   "metadata": {},
   "outputs": [
    {
     "data": {
      "text/plain": [
       "'h   r tnrrmglsnimeNGyosi dtfco'"
      ]
     },
     "execution_count": 2,
     "metadata": {},
     "output_type": "execute_result"
    }
   ],
   "source": [
    "s[1:300:3]"
   ]
  },
  {
   "cell_type": "markdown",
   "id": "33d6d545",
   "metadata": {},
   "source": [
    "## Try to reverse a string without using reverse function "
   ]
  },
  {
   "cell_type": "code",
   "execution_count": 3,
   "id": "f005ff22",
   "metadata": {},
   "outputs": [
    {
     "data": {
      "text/plain": [
       "'noitcnuf sti dna gnirts nohtyp GNINrael ma i dna ssalc gnimmargorp nohtyP tsriF yM si siht'"
      ]
     },
     "execution_count": 3,
     "metadata": {},
     "output_type": "execute_result"
    }
   ],
   "source": [
    "s[::-1]"
   ]
  },
  {
   "cell_type": "markdown",
   "id": "5a07586f",
   "metadata": {},
   "source": [
    "## Try to split a string after conversion of entire string in uppercase"
   ]
  },
  {
   "cell_type": "code",
   "execution_count": 17,
   "id": "14ce0c05",
   "metadata": {},
   "outputs": [],
   "source": [
    "s1=s.upper()"
   ]
  },
  {
   "cell_type": "code",
   "execution_count": 7,
   "id": "2f7adb18",
   "metadata": {},
   "outputs": [
    {
     "data": {
      "text/plain": [
       "['THIS',\n",
       " 'IS',\n",
       " 'MY',\n",
       " 'FIRST',\n",
       " 'PYTHON',\n",
       " 'PROGRAMMING',\n",
       " 'CLASS',\n",
       " 'AND',\n",
       " 'I',\n",
       " 'AM',\n",
       " 'LEARNING',\n",
       " 'PYTHON',\n",
       " 'STRING',\n",
       " 'AND',\n",
       " 'ITS',\n",
       " 'FUNCTION']"
      ]
     },
     "execution_count": 7,
     "metadata": {},
     "output_type": "execute_result"
    }
   ],
   "source": [
    "s1.split()"
   ]
  },
  {
   "cell_type": "markdown",
   "id": "182d8d31",
   "metadata": {},
   "source": [
    "## try to convert the whole string into lower case"
   ]
  },
  {
   "cell_type": "code",
   "execution_count": 8,
   "id": "59a5cd7c",
   "metadata": {},
   "outputs": [
    {
     "data": {
      "text/plain": [
       "'this is my first python programming class and i am learning python string and its function'"
      ]
     },
     "execution_count": 8,
     "metadata": {},
     "output_type": "execute_result"
    }
   ],
   "source": [
    "s.lower()"
   ]
  },
  {
   "cell_type": "markdown",
   "id": "b53f74d0",
   "metadata": {},
   "source": [
    "## Try to capitalize the whole string"
   ]
  },
  {
   "cell_type": "code",
   "execution_count": 9,
   "id": "67688cd1",
   "metadata": {},
   "outputs": [
    {
     "data": {
      "text/plain": [
       "'This is my first python programming class and i am learning python string and its function'"
      ]
     },
     "execution_count": 9,
     "metadata": {},
     "output_type": "execute_result"
    }
   ],
   "source": [
    "s.capitalize()"
   ]
  },
  {
   "cell_type": "markdown",
   "id": "081de7b3",
   "metadata": {},
   "source": [
    "## Write a diference between isalnum() and isalpha() "
   ]
  },
  {
   "cell_type": "markdown",
   "id": "9a947fe3",
   "metadata": {},
   "source": [
    "### isalnum()"
   ]
  },
  {
   "cell_type": "markdown",
   "id": "689d04b8",
   "metadata": {},
   "source": [
    "The isalnum() method returns True if all characters in the string are alphanumeric (either alphabets or numbers). If not, it returns False.\n",
    "\n",
    "Syntax:- Object(String).isalnum()"
   ]
  },
  {
   "cell_type": "markdown",
   "id": "8c0e4a26",
   "metadata": {},
   "source": [
    "### isalpha() "
   ]
  },
  {
   "cell_type": "markdown",
   "id": "24a60741",
   "metadata": {},
   "source": [
    "This function will check whether the given string contains completely  aplhabet character(A to Z, a to z) or Not. if it contains alphabetic character then it will give the output as True else it will return false.\n",
    "\n",
    "Syntax:- Object(String).isapha()\n",
    "\n"
   ]
  },
  {
   "cell_type": "markdown",
   "id": "4453df2f",
   "metadata": {},
   "source": [
    "## Try to give an example of expand tab"
   ]
  },
  {
   "cell_type": "code",
   "execution_count": 31,
   "id": "ad10d0d2",
   "metadata": {},
   "outputs": [],
   "source": [
    "ex='abcd\\tinueron\\tdatascience'"
   ]
  },
  {
   "cell_type": "code",
   "execution_count": 32,
   "id": "608e6b24",
   "metadata": {},
   "outputs": [
    {
     "data": {
      "text/plain": [
       "'abcd    inueron datascience'"
      ]
     },
     "execution_count": 32,
     "metadata": {},
     "output_type": "execute_result"
    }
   ],
   "source": [
    "ex.expandtabs()"
   ]
  },
  {
   "cell_type": "markdown",
   "id": "2e988666",
   "metadata": {},
   "source": [
    "## Give an example of strip , lstrip and rstrip"
   ]
  },
  {
   "cell_type": "code",
   "execution_count": 33,
   "id": "4b97766c",
   "metadata": {},
   "outputs": [],
   "source": [
    "str=\"      Inueron             \""
   ]
  },
  {
   "cell_type": "code",
   "execution_count": 34,
   "id": "2a09c499",
   "metadata": {},
   "outputs": [
    {
     "data": {
      "text/plain": [
       "'Inueron'"
      ]
     },
     "execution_count": 34,
     "metadata": {},
     "output_type": "execute_result"
    }
   ],
   "source": [
    "str.strip()"
   ]
  },
  {
   "cell_type": "code",
   "execution_count": 35,
   "id": "4614a66b",
   "metadata": {},
   "outputs": [
    {
     "data": {
      "text/plain": [
       "'Inueron             '"
      ]
     },
     "execution_count": 35,
     "metadata": {},
     "output_type": "execute_result"
    }
   ],
   "source": [
    "str.lstrip()"
   ]
  },
  {
   "cell_type": "code",
   "execution_count": 39,
   "id": "175e163e",
   "metadata": {},
   "outputs": [
    {
     "data": {
      "text/plain": [
       "'      Inueron'"
      ]
     },
     "execution_count": 39,
     "metadata": {},
     "output_type": "execute_result"
    }
   ],
   "source": [
    "str.rstrip()"
   ]
  },
  {
   "cell_type": "markdown",
   "id": "b1d1c5b0",
   "metadata": {},
   "source": [
    "##  Replace a string character by another character by taking your own example \n",
    "        \"sudhanshu\""
   ]
  },
  {
   "cell_type": "code",
   "execution_count": 40,
   "id": "8682dbf3",
   "metadata": {},
   "outputs": [],
   "source": [
    "Ex=\"sudhanshu\""
   ]
  },
  {
   "cell_type": "code",
   "execution_count": 43,
   "id": "50824eb4",
   "metadata": {},
   "outputs": [
    {
     "data": {
      "text/plain": [
       "'sodhansho'"
      ]
     },
     "execution_count": 43,
     "metadata": {},
     "output_type": "execute_result"
    }
   ],
   "source": [
    "Ex.replace(\"u\",\"o\")"
   ]
  },
  {
   "cell_type": "markdown",
   "id": "34729298",
   "metadata": {},
   "source": [
    "## Try  to give a defination of string center function with and exmple "
   ]
  },
  {
   "cell_type": "code",
   "execution_count": 44,
   "id": "c6e21a6a",
   "metadata": {},
   "outputs": [],
   "source": [
    "i= \"Inueron\""
   ]
  },
  {
   "cell_type": "code",
   "execution_count": 54,
   "id": "4073fbbe",
   "metadata": {},
   "outputs": [
    {
     "data": {
      "text/plain": [
       "'######Inueron#######'"
      ]
     },
     "execution_count": 54,
     "metadata": {},
     "output_type": "execute_result"
    }
   ],
   "source": [
    "i.center(20,\"#\")"
   ]
  },
  {
   "cell_type": "markdown",
   "id": "182d34aa",
   "metadata": {},
   "source": [
    "## Write your own definition of compiler and interpretor without copy paste form internet in          your own language"
   ]
  },
  {
   "cell_type": "markdown",
   "id": "d3993b11",
   "metadata": {},
   "source": [
    "### Compiler"
   ]
  },
  {
   "cell_type": "markdown",
   "id": "1da95dd5",
   "metadata": {},
   "source": [
    "The compiler is a special program that is written in a specific programming language \n",
    "to convert the human-readable language or high-level language to \n",
    "machine-readable language or low-level language.\n",
    "\n",
    "- Scans the entire program and translates it as a whole into machine code.\n",
    "\n"
   ]
  },
  {
   "cell_type": "markdown",
   "id": "53ccb520",
   "metadata": {},
   "source": [
    "### interpretor"
   ]
  },
  {
   "cell_type": "markdown",
   "id": "9300efa0",
   "metadata": {},
   "source": [
    "As we know the computer can’t understand our language, it can only understand the machine language i.e., binary language. So, the interpreter converts the code written in language by the user to the language which computer hardware or system can understand.\n",
    "\n",
    "- Translates program one statement at a time."
   ]
  },
  {
   "cell_type": "markdown",
   "id": "b3628923",
   "metadata": {},
   "source": [
    "\n",
    "\n",
    "1. We generally write a computer program using a high-level language. A high-level language is one that is understandable by us, humans. This is called source code.\n",
    "2. However, a computer does not understand high-level language. It only understands the program written in 0's and 1's in binary, called the machine code.\n",
    "3. To convert source code into machine code, we use either a compiler or an interpreter"
   ]
  },
  {
   "cell_type": "markdown",
   "id": "5abbae9b",
   "metadata": {},
   "source": [
    "## Python is a interpreted or compiled language give a clear ans with your understanding "
   ]
  },
  {
   "cell_type": "markdown",
   "id": "9c2774fb",
   "metadata": {},
   "source": [
    "- An interpreter takes the code you write an executes (runs) whatever actions you specified, creates the variables you created, and does a lot of behind-the-scenes work to ensure it runs smoothly or tells you about errors.\n",
    "\n",
    "- Python is called an interpreted language because it goes through an interpreter, which turns code you write into the language understood by your computer’s processor. Later on when you work on a project on your own computer, you will download and use the Python interpreter to be able to write Python code and execute it on your own!"
   ]
  },
  {
   "cell_type": "markdown",
   "id": "87cf4fc8",
   "metadata": {},
   "source": [
    "## Try to write a usecase of python with your understanding"
   ]
  },
  {
   "cell_type": "markdown",
   "id": "b68aebf8",
   "metadata": {},
   "source": [
    "- USE CASE OF PYTHON \n",
    "1. Dive Into Data Science and Math\n",
    "        (A).Machine Learning\n",
    "        (B).Scientific Computing\n",
    "        (C).Data Analysis and Visualization\n",
    "        (D).Web Scraping\n",
    " \n",
    "2. Speed Up and Automate  Workflow\n",
    "        (A).DevOps\n",
    "        (B).Development Environment\n",
    "        (C).Software Packaging and Deployment\n",
    "        (D).Database Systems\n",
    "        (E).Software Testing\n",
    "\n",
    "3. Develop Cool Software\n",
    "        (A).Web Development\n",
    "        (B).CLI Development\n",
    "        (C).GUI Development\n",
    "        (D).Game Development   \n",
    "     "
   ]
  },
  {
   "cell_type": "markdown",
   "id": "b3ab2291",
   "metadata": {},
   "source": []
  }
 ],
 "metadata": {
  "kernelspec": {
   "display_name": "Python 3 (ipykernel)",
   "language": "python",
   "name": "python3"
  },
  "language_info": {
   "codemirror_mode": {
    "name": "ipython",
    "version": 3
   },
   "file_extension": ".py",
   "mimetype": "text/x-python",
   "name": "python",
   "nbconvert_exporter": "python",
   "pygments_lexer": "ipython3",
   "version": "3.10.4"
  },
  "toc": {
   "base_numbering": 1,
   "nav_menu": {},
   "number_sections": true,
   "sideBar": true,
   "skip_h1_title": false,
   "title_cell": "Table of Contents",
   "title_sidebar": "Contents",
   "toc_cell": false,
   "toc_position": {},
   "toc_section_display": true,
   "toc_window_display": false
  },
  "varInspector": {
   "cols": {
    "lenName": 16,
    "lenType": 16,
    "lenVar": 40
   },
   "kernels_config": {
    "python": {
     "delete_cmd_postfix": "",
     "delete_cmd_prefix": "del ",
     "library": "var_list.py",
     "varRefreshCmd": "print(var_dic_list())"
    },
    "r": {
     "delete_cmd_postfix": ") ",
     "delete_cmd_prefix": "rm(",
     "library": "var_list.r",
     "varRefreshCmd": "cat(var_dic_list()) "
    }
   },
   "types_to_exclude": [
    "module",
    "function",
    "builtin_function_or_method",
    "instance",
    "_Feature"
   ],
   "window_display": false
  }
 },
 "nbformat": 4,
 "nbformat_minor": 5
}
